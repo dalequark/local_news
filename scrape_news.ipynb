{
 "cells": [
  {
   "cell_type": "code",
   "execution_count": 1,
   "metadata": {
    "collapsed": false
   },
   "outputs": [],
   "source": [
    "import urllib2\n",
    "from bs4 import BeautifulSoup\n",
    "import re\n",
    "import pandas as pd\n",
    "from tqdm import tqdm"
   ]
  },
  {
   "cell_type": "code",
   "execution_count": 2,
   "metadata": {
    "collapsed": true
   },
   "outputs": [],
   "source": [
    "newseum = \"http://www.newseum.org/todaysfrontpages/?tfp_display=list&tfp_region=USA&tfp_sort_by=state\""
   ]
  },
  {
   "cell_type": "code",
   "execution_count": 180,
   "metadata": {
    "collapsed": true
   },
   "outputs": [],
   "source": [
    "page = urllib2.urlopen(newseum)\n",
    "root = BeautifulSoup(page, 'html.parser')"
   ]
  },
  {
   "cell_type": "code",
   "execution_count": 184,
   "metadata": {
    "collapsed": false
   },
   "outputs": [],
   "source": [
    "res = root.find_all('a', {'class': 'tfp-list-link'})"
   ]
  },
  {
   "cell_type": "code",
   "execution_count": 185,
   "metadata": {
    "collapsed": false
   },
   "outputs": [],
   "source": [
    "names = [x.text.split('\\n')[1] for x in res]"
   ]
  },
  {
   "cell_type": "code",
   "execution_count": 186,
   "metadata": {
    "collapsed": true
   },
   "outputs": [],
   "source": [
    "links = [x['href'] for x in res]"
   ]
  },
  {
   "cell_type": "code",
   "execution_count": 187,
   "metadata": {
    "collapsed": false
   },
   "outputs": [],
   "source": [
    "loc_name = [x.find('h6').text for x in res]"
   ]
  },
  {
   "cell_type": "code",
   "execution_count": 188,
   "metadata": {
    "collapsed": true
   },
   "outputs": [],
   "source": [
    "city_name = [x.split(',')[0] for x in loc_name]"
   ]
  },
  {
   "cell_type": "code",
   "execution_count": 189,
   "metadata": {
    "collapsed": false
   },
   "outputs": [],
   "source": [
    "state_name = [re.findall(', ([A-Za-z. ]*)', x)[0][:-4] for x in loc_name]"
   ]
  },
  {
   "cell_type": "code",
   "execution_count": 190,
   "metadata": {
    "collapsed": true
   },
   "outputs": [],
   "source": [
    "local_news = pd.DataFrame(zip(names, links, city_name, state_name), columns=['name', 'link', 'city', 'state'])"
   ]
  },
  {
   "cell_type": "code",
   "execution_count": 128,
   "metadata": {
    "collapsed": true
   },
   "outputs": [],
   "source": [
    "def getOuterLink(newseum_link):\n",
    "    try:\n",
    "        newseum_link = \"http://www.newseum.org/\" + newseum_link\n",
    "        x = urllib2.urlopen(newseum_link)\n",
    "        x = BeautifulSoup(x, 'html.parser')\n",
    "        return x.find_all('span', {'class': 'fa fa-external-link'})[0].parent['href']\n",
    "    except:\n",
    "        return None"
   ]
  },
  {
   "cell_type": "code",
   "execution_count": 136,
   "metadata": {
    "collapsed": false
   },
   "outputs": [],
   "source": [
    "local_news.to_csv('./local_news.csv', encoding='utf-8')"
   ]
  },
  {
   "cell_type": "code",
   "execution_count": 140,
   "metadata": {
    "collapsed": true
   },
   "outputs": [],
   "source": [
    "sample = local_news.sample(100)"
   ]
  },
  {
   "cell_type": "code",
   "execution_count": 141,
   "metadata": {
    "collapsed": false
   },
   "outputs": [],
   "source": [
    "sample['outer_links'] = sample['link'].map(getOuterLink)"
   ]
  },
  {
   "cell_type": "code",
   "execution_count": 147,
   "metadata": {
    "collapsed": false
   },
   "outputs": [],
   "source": [
    "sample.to_pickle('sample.pkl')\n",
    "sample.to_csv('sample.csv', encoding='utf-8')"
   ]
  },
  {
   "cell_type": "code",
   "execution_count": 250,
   "metadata": {
    "collapsed": false
   },
   "outputs": [],
   "source": [
    "def getHeadlines(link):\n",
    "    try:\n",
    "        page = urllib2.urlopen(link)\n",
    "        root = BeautifulSoup(page, 'html.parser')\n",
    "        MIN_HEADLINE_LEN = 5\n",
    "        return [x.text.strip() for x in root.find_all('a') if len(x.text.strip().split(' ')) >= MIN_HEADLINE_LEN]\n",
    "    except:\n",
    "        return None"
   ]
  },
  {
   "cell_type": "code",
   "execution_count": 259,
   "metadata": {
    "collapsed": true
   },
   "outputs": [],
   "source": [
    "def getOpinions(link):\n",
    "    try:\n",
    "        page = urllib2.urlopen(link + '/opinion')\n",
    "        root = BeautifulSoup(page, 'html.parser')\n",
    "        MIN_HEADLINE_LEN = 5\n",
    "        return [x.text.strip() for x in root.find_all('a') if len(x.text.strip().split(' ')) >= MIN_HEADLINE_LEN]\n",
    "    except:\n",
    "        return None"
   ]
  },
  {
   "cell_type": "code",
   "execution_count": 262,
   "metadata": {
    "collapsed": true
   },
   "outputs": [],
   "source": [
    "mini_sample = sample.sample(10)"
   ]
  },
  {
   "cell_type": "code",
   "execution_count": 263,
   "metadata": {
    "collapsed": false
   },
   "outputs": [],
   "source": [
    "mini_sample['headlines'] = mini_sample['outer_links'].map(getHeadlines)"
   ]
  },
  {
   "cell_type": "code",
   "execution_count": 264,
   "metadata": {
    "collapsed": true
   },
   "outputs": [],
   "source": [
    "mini_sample['opeds'] = mini_sample['outer_links'].map(getOpinions)"
   ]
  }
 ],
 "metadata": {
  "kernelspec": {
   "display_name": "Python 2",
   "language": "python",
   "name": "python2"
  },
  "language_info": {
   "codemirror_mode": {
    "name": "ipython",
    "version": 2
   },
   "file_extension": ".py",
   "mimetype": "text/x-python",
   "name": "python",
   "nbconvert_exporter": "python",
   "pygments_lexer": "ipython2",
   "version": "2.7.10"
  }
 },
 "nbformat": 4,
 "nbformat_minor": 2
}
