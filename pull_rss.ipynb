{
 "cells": [
  {
   "cell_type": "code",
   "execution_count": 2,
   "metadata": {},
   "outputs": [],
   "source": [
    "import urllib.request\n",
    "import requests\n",
    "from bs4 import BeautifulSoup\n",
    "import re\n",
    "import pandas as pd\n",
    "from tqdm import tqdm\n",
    "import psycopg2\n",
    "from sqlalchemy import create_engine\n",
    "import sys\n",
    "from dbWrapper import dbWrapper"
   ]
  },
  {
   "cell_type": "code",
   "execution_count": 3,
   "metadata": {},
   "outputs": [],
   "source": [
    "#You will need to store your db credentials in a file in a dictionary named \"creds\"\n",
    "exec(open('./db.cred').read())"
   ]
  },
  {
   "cell_type": "code",
   "execution_count": 4,
   "metadata": {},
   "outputs": [],
   "source": [
    "engine = create_engine('postgresql://{user}:{password}@{host}/{dbname}', echo=False)"
   ]
  },
  {
   "cell_type": "code",
   "execution_count": 5,
   "metadata": {},
   "outputs": [],
   "source": [
    "db = dbWrapper()"
   ]
  },
  {
   "cell_type": "code",
   "execution_count": 3,
   "metadata": {},
   "outputs": [],
   "source": [
    "#local_news['file_name'] = local_news['name'].map(lambda x: x.lower().replace(' ', '_') + '.html')"
   ]
  },
  {
   "cell_type": "code",
   "execution_count": 4,
   "metadata": {},
   "outputs": [],
   "source": [
    "def getRss(file_name):\n",
    "    try:\n",
    "        with open('./front_pages/%s' % file_name) as f:\n",
    "            bs = BeautifulSoup(f, 'html.parser')\n",
    "            return bs.find_all('link', {'type': 'application/rss+xml'})[0]['href']\n",
    "    except:\n",
    "        pass"
   ]
  },
  {
   "cell_type": "code",
   "execution_count": 10,
   "metadata": {},
   "outputs": [],
   "source": [
    "local_news = db.execute(\"SELECT DISTINCT ON (name) * FROM local_news WHERE rss_link != 'None'\")"
   ]
  },
  {
   "cell_type": "code",
   "execution_count": 11,
   "metadata": {},
   "outputs": [],
   "source": [
    "# Make all hashes postitive\n",
    "def posHash(x):\n",
    "    h = hash(x)\n",
    "    if h < 0:\n",
    "          return h + sys.maxsize\n",
    "    return h\n",
    "\n",
    "def getArticles(row):\n",
    "    # this is a bug many sites seem to have--including this line prevents any news articles from being included\n",
    "    rss_link = row['rss_link'].replace('&k[]=%23topstory', '')\n",
    "    r = requests.get(rss_link)\n",
    "    bs = BeautifulSoup(r.text, 'html5lib')\n",
    "    articles = pd.DataFrame([(item.find('title').text, \n",
    "      item.find('pubdate').text,\n",
    "      item.find('description').text,\n",
    "      item.find('link').next_element.strip(),\n",
    "     )\n",
    "    for item in bs.find_all('item')], columns=['headline', 'pub_date', 'description', 'link'])\n",
    "    \n",
    "    articles['pub_date'] = pd.to_datetime(articles['pub_date'])\n",
    "    articles['pub_name'] = row['name']\n",
    "    articles['pub_id'] = row['id']\n",
    "    \n",
    "    # the primary id for the rss_articles table is the positive \n",
    "    # hash of the concatinated pub_name and headline\n",
    "    articles['id'] = articles.apply(lambda x: posHash(x['pub_name'] + x['headline']), axis=1)\n",
    "    \n",
    "    # drop duplicates\n",
    "    return articles[~articles.duplicated('id', keep=False)]"
   ]
  },
  {
   "cell_type": "code",
   "execution_count": 12,
   "metadata": {},
   "outputs": [],
   "source": [
    "# Some of the rss links don't include the base url\n",
    "def addBaseUrl(row):\n",
    "    if 'http' in row['rss_link']:\n",
    "            return row['rss_link']\n",
    "    return row['url'] + row['rss_link']\n",
    "\n",
    "local_news['rss_link'] = local_news.apply(addBaseUrl, axis=1)"
   ]
  },
  {
   "cell_type": "code",
   "execution_count": 423,
   "metadata": {},
   "outputs": [],
   "source": [
    "logfile = open('pull_rss.log', 'w')\n",
    "errorfile = open('pull_rss.error', 'w')"
   ]
  },
  {
   "cell_type": "code",
   "execution_count": 431,
   "metadata": {},
   "outputs": [
    {
     "name": "stderr",
     "output_type": "stream",
     "text": [
      "176it [00:59,  2.94it/s]\n"
     ]
    }
   ],
   "source": [
    "cur.execute(\"DROP TABLE IF EXISTS rss_articles\")\n",
    "conn.commit()\n",
    "\n",
    "for i, row in tqdm(enumerate(rss_news.iterrows())):\n",
    "    try:\n",
    "        articles = getArticles(row[1])\n",
    "        if i == 0:\n",
    "            articles.to_sql('rss_articles', engine, if_exists='replace', index=False)\n",
    "            cur.execute(\"ALTER TABLE rss_articles ADD PRIMARY KEY (id)\")\n",
    "            conn.commit()\n",
    "        else:\n",
    "            articles.to_sql('rss_articles', engine, if_exists='append', index=False)\n",
    "        logfile.write(\"Pulled %d articles for %s\\n\" % (len(articles), row[1]['name']))\n",
    "        logfile.flush()\n",
    "    except:\n",
    "        errorfile.write(\"Error pulling articles from %s\\n\" % row[1]['rss_link'])\n",
    "        errorfile.flush()"
   ]
  },
  {
   "cell_type": "code",
   "execution_count": 24,
   "metadata": {},
   "outputs": [],
   "source": [
    "local_news['rss_link'] = local_news['rss_link'].map(lambda x: x.replace('&k[]=%23topstory', ''))"
   ]
  },
  {
   "cell_type": "code",
   "execution_count": 26,
   "metadata": {},
   "outputs": [
    {
     "data": {
      "text/plain": [
       "'http://www.aikenstandard.com/search/?f=rss&t=article&l=50&s=start_time&sd=desc'"
      ]
     },
     "execution_count": 26,
     "metadata": {},
     "output_type": "execute_result"
    }
   ],
   "source": [
    "local_news.iloc[0].rss_link"
   ]
  },
  {
   "cell_type": "code",
   "execution_count": 14,
   "metadata": {},
   "outputs": [],
   "source": [
    "import re"
   ]
  },
  {
   "cell_type": "code",
   "execution_count": 18,
   "metadata": {},
   "outputs": [],
   "source": [
    "x = \"https://www.ohio.com/feed\"\n",
    "\"http://www.aikenstandard.com/search/?f=rss&t=article&l=50&s=start_time&sd=desc&k[]=%23topstory\""
   ]
  },
  {
   "cell_type": "code",
   "execution_count": 21,
   "metadata": {},
   "outputs": [
    {
     "data": {
      "text/plain": [
       "'https://www.ohio.com/'"
      ]
     },
     "execution_count": 21,
     "metadata": {},
     "output_type": "execute_result"
    }
   ],
   "source": [
    "x[:-4]"
   ]
  },
  {
   "cell_type": "code",
   "execution_count": 32,
   "metadata": {},
   "outputs": [
    {
     "data": {
      "text/plain": [
       "79"
      ]
     },
     "execution_count": 32,
     "metadata": {},
     "output_type": "execute_result"
    }
   ],
   "source": [
    "len(local_news[local_news['rss_link'].map(getOpinionLink).isnull()])"
   ]
  },
  {
   "cell_type": "code",
   "execution_count": 46,
   "metadata": {},
   "outputs": [
    {
     "data": {
      "text/plain": [
       "39"
      ]
     },
     "execution_count": 46,
     "metadata": {},
     "output_type": "execute_result"
    }
   ],
   "source": [
    "len(local_news[local_news['rss_link'].map(getOpinionLink).isnull()])"
   ]
  },
  {
   "cell_type": "code",
   "execution_count": 86,
   "metadata": {},
   "outputs": [
    {
     "data": {
      "text/plain": [
       "12"
      ]
     },
     "execution_count": 86,
     "metadata": {},
     "output_type": "execute_result"
    }
   ],
   "source": [
    "len(local_news[local_news['rss_link'].map(getOpinionLink).isnull()])"
   ]
  },
  {
   "cell_type": "code",
   "execution_count": 85,
   "metadata": {},
   "outputs": [],
   "source": [
    "def getOpinionLink(rss_link):\n",
    "    if rss_link[-5:] == \"/feed\":\n",
    "        return rss_link[:-4] + \"opinion/feed\"\n",
    "    if rss_link[-6:] == \"/feed/\":\n",
    "        return rss_link[:-6] + \"opinion/feed\"   \n",
    "    if '?f=rss' in rss_link:\n",
    "        return rss_link + \"&c=opinion\"\n",
    "    if 'rss2.0.xml' in rss_link:\n",
    "        return rss_link.replace('rss2.0.xml', 'opinion/rss2.0.xml')\n",
    "    if '?feed=' in rss_link:\n",
    "        ix = rss_link.index('?feed=')\n",
    "        return rss_link[:ix] + '?feed=opinion'\n",
    "    if '?widgetName' in rss_link:\n",
    "        ix = rss_link.index('?widgetName')\n",
    "        return rss_link[:ix] + 'opinion/' + rss_link[ix:]\n",
    "    if '/rss/headlines' in rss_link:\n",
    "        ix = rss_link.index('/rss/headlines')\n",
    "        return rss_link[:ix] + '/rss/headlines/opinion'\n",
    "    if 'thetimes-tribune' in rss_link:\n",
    "        return 'http://thetimes-tribune.com/cmlink/opinion-from-thetimes-tribune-com-1.8278'\n",
    "    return None"
   ]
  },
  {
   "cell_type": "code",
   "execution_count": 93,
   "metadata": {},
   "outputs": [
    {
     "data": {
      "text/plain": [
       "'http://www.thetimes-tribune.com/cmlink/adam-ripppon-1.2291384'"
      ]
     },
     "execution_count": 93,
     "metadata": {},
     "output_type": "execute_result"
    }
   ],
   "source": [
    "local_news[local_news['rss_link'].map(getOpinionLink).isnull()].iloc[-1]['rss_link']"
   ]
  },
  {
   "cell_type": "code",
   "execution_count": 60,
   "metadata": {},
   "outputs": [],
   "source": [
    "x = local_news[local_news['rss_link'].map(getOpinionLink).isnull()]"
   ]
  },
  {
   "cell_type": "code",
   "execution_count": 68,
   "metadata": {},
   "outputs": [],
   "source": [
    "x = 'http://www.charlotteobserver.com/?widgetName=rssfeed&widgetContentId=8167599&getXmlFeed=true'"
   ]
  },
  {
   "cell_type": "code",
   "execution_count": 71,
   "metadata": {},
   "outputs": [
    {
     "data": {
      "text/plain": [
       "'?widgetName=rssfeed&widgetContentId=8167599&getXmlFeed=true'"
      ]
     },
     "execution_count": 71,
     "metadata": {},
     "output_type": "execute_result"
    }
   ],
   "source": [
    "x[33:]"
   ]
  },
  {
   "cell_type": "code",
   "execution_count": 69,
   "metadata": {},
   "outputs": [
    {
     "data": {
      "text/plain": [
       "33"
      ]
     },
     "execution_count": 69,
     "metadata": {},
     "output_type": "execute_result"
    }
   ],
   "source": [
    "x.index('?widgetName')"
   ]
  },
  {
   "cell_type": "code",
   "execution_count": null,
   "metadata": {},
   "outputs": [],
   "source": [
    "x.indexOf()"
   ]
  },
  {
   "cell_type": "code",
   "execution_count": 57,
   "metadata": {},
   "outputs": [
    {
     "data": {
      "text/plain": [
       "['news_top5']"
      ]
     },
     "execution_count": 57,
     "metadata": {},
     "output_type": "execute_result"
    }
   ],
   "source": [
    "re.findall('\\?feed=([A-Za-z\\d_-]*)', x)"
   ]
  },
  {
   "cell_type": "code",
   "execution_count": null,
   "metadata": {},
   "outputs": [],
   "source": []
  }
 ],
 "metadata": {
  "kernelspec": {
   "display_name": "Python 3",
   "language": "python",
   "name": "python3"
  },
  "language_info": {
   "codemirror_mode": {
    "name": "ipython",
    "version": 3
   },
   "file_extension": ".py",
   "mimetype": "text/x-python",
   "name": "python",
   "nbconvert_exporter": "python",
   "pygments_lexer": "ipython3",
   "version": "3.5.2"
  }
 },
 "nbformat": 4,
 "nbformat_minor": 2
}
